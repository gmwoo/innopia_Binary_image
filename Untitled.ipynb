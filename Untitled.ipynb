{
 "cells": [
  {
   "cell_type": "code",
   "execution_count": 1,
   "metadata": {},
   "outputs": [],
   "source": [
    "import glob"
   ]
  },
  {
   "cell_type": "code",
   "execution_count": null,
   "metadata": {},
   "outputs": [],
   "source": [
    "# 대상 폴더\n",
    "image_directory = \"C:/Users/asdfr/Pictures/Saved Pictures/pose/\"\n",
    "\n",
    "# 확장자\n",
    "extension = \"*.jpg\"\n",
    "\n",
    "# 텍스트 파일이 저장될 경로\n",
    "save_at = \"C:/Users/asdfr/darknet/build/darknet/x64/pose/custom.txt\"\n",
    "\n",
    "# 대상 폴더에서 지정한 확장자를 가진 파일들의 경로를 리스트화\n",
    "files = sorted(glob.glob(image_directory + extension))\n",
    "\n",
    "# 파일들의 경로를 텍스트 파일에 추가 및 출력\n",
    "for file in files:\n",
    "    f = open(save_at, 'a')\n",
    "    f.write(file + \"\\n\")\n",
    "    print(file)"
   ]
  }
 ],
 "metadata": {
  "kernelspec": {
   "display_name": "GM",
   "language": "python",
   "name": "gm"
  },
  "language_info": {
   "codemirror_mode": {
    "name": "ipython",
    "version": 3
   },
   "file_extension": ".py",
   "mimetype": "text/x-python",
   "name": "python",
   "nbconvert_exporter": "python",
   "pygments_lexer": "ipython3",
   "version": "3.7.0"
  }
 },
 "nbformat": 4,
 "nbformat_minor": 4
}
